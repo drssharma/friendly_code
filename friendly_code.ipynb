{
 "cells": [
  {
   "cell_type": "code",
   "execution_count": 1,
   "id": "f82154da",
   "metadata": {},
   "outputs": [
    {
     "data": {
      "text/plain": [
       "'Hello,friends'"
      ]
     },
     "execution_count": 1,
     "metadata": {},
     "output_type": "execute_result"
    }
   ],
   "source": [
    "def hello(name):\n",
    "    return f'Hello,{name}'\n",
    "hello('friends')"
   ]
  },
  {
   "cell_type": "code",
   "execution_count": 2,
   "id": "5e1042b8",
   "metadata": {},
   "outputs": [
    {
     "data": {
      "text/plain": [
       "'My name is,Shweta'"
      ]
     },
     "execution_count": 2,
     "metadata": {},
     "output_type": "execute_result"
    }
   ],
   "source": [
    "def introduction(name):\n",
    "    return f'My name is,{name}'\n",
    "introduction('Shweta')\n"
   ]
  },
  {
   "cell_type": "code",
   "execution_count": null,
   "id": "2b38d037",
   "metadata": {},
   "outputs": [],
   "source": []
  }
 ],
 "metadata": {
  "kernelspec": {
   "display_name": "Python 3 (ipykernel)",
   "language": "python",
   "name": "python3"
  },
  "language_info": {
   "codemirror_mode": {
    "name": "ipython",
    "version": 3
   },
   "file_extension": ".py",
   "mimetype": "text/x-python",
   "name": "python",
   "nbconvert_exporter": "python",
   "pygments_lexer": "ipython3",
   "version": "3.9.7"
  }
 },
 "nbformat": 4,
 "nbformat_minor": 5
}
